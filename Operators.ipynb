{
 "cells": [
  {
   "cell_type": "code",
   "execution_count": 7,
   "metadata": {},
   "outputs": [
    {
     "name": "stdout",
     "output_type": "stream",
     "text": [
      "16\n",
      "4\n",
      "60\n",
      "1.6666666666666667\n",
      "4\n",
      "1000000\n",
      "1\n"
     ]
    }
   ],
   "source": [
    "#1) Arithmetic Operators\n",
    "x = 10\n",
    "y = 6\n",
    "print(x+y)\n",
    "print(x-y)\n",
    "print(x*y)\n",
    "print(x/y)\n",
    "print(x%y)\n",
    "print(x**y)\n",
    "print(x//y)"
   ]
  },
  {
   "cell_type": "code",
   "execution_count": 12,
   "metadata": {},
   "outputs": [
    {
     "name": "stdout",
     "output_type": "stream",
     "text": [
      "8\n",
      "5\n",
      "15\n",
      "5.0\n",
      "2.0\n",
      "0.0\n",
      "0.0\n",
      "1\n",
      "3\n",
      "0\n",
      "0\n",
      "0\n",
      "3\n"
     ]
    }
   ],
   "source": [
    "#2) Assignment Operators\n",
    "x = 5\n",
    "x += 3\n",
    "print(x)\n",
    "x -= 3\n",
    "print(x)\n",
    "x *= 3\n",
    "print(x)\n",
    "x /= 3\n",
    "print(x)\n",
    "x %= 3\n",
    "print(x)\n",
    "x //= 3\n",
    "print(x)\n",
    "x **= 3\n",
    "print(x)\n",
    "x = 5\n",
    "x &= 3\n",
    "print(x)\n",
    "x |= 3\n",
    "print(x)\n",
    "x ^= 3\n",
    "print(x)\n",
    "x >>= 3\n",
    "print(x)\n",
    "x <<= 3\n",
    "print(x)\n",
    "print(x := 3)"
   ]
  },
  {
   "cell_type": "code",
   "execution_count": 13,
   "metadata": {},
   "outputs": [
    {
     "name": "stdout",
     "output_type": "stream",
     "text": [
      "False\n",
      "True\n",
      "False\n",
      "True\n",
      "False\n",
      "True\n"
     ]
    }
   ],
   "source": [
    "#3) Comparison Operators\n",
    "x,y = 5,6\n",
    "print(x == y)\n",
    "print(x != y)\n",
    "print(x > y)\n",
    "print(x < y)\n",
    "print(x >= y)\n",
    "print(x <= y)"
   ]
  },
  {
   "cell_type": "code",
   "execution_count": 14,
   "metadata": {},
   "outputs": [
    {
     "name": "stdout",
     "output_type": "stream",
     "text": [
      "False\n",
      "True\n",
      "False\n"
     ]
    }
   ],
   "source": [
    "#4) Logical Operators\n",
    "x,y = True,False\n",
    "print(x and y)\n",
    "print(x or y)\n",
    "print(not(x))"
   ]
  },
  {
   "cell_type": "code",
   "execution_count": 15,
   "metadata": {},
   "outputs": [
    {
     "name": "stdout",
     "output_type": "stream",
     "text": [
      "True\n",
      "False\n"
     ]
    }
   ],
   "source": [
    "#Identity Operators\n",
    "x = [1,2,3]\n",
    "y = x\n",
    "print(x is y)\n",
    "print(x is not y)"
   ]
  },
  {
   "cell_type": "code",
   "execution_count": 16,
   "metadata": {},
   "outputs": [
    {
     "name": "stdout",
     "output_type": "stream",
     "text": [
      "True\n",
      "False\n"
     ]
    }
   ],
   "source": [
    "#Membership Operators\n",
    "x = 5\n",
    "a = [1,2,3,4,5]\n",
    "\n",
    "print(x in a)\n",
    "print(x not in a)"
   ]
  },
  {
   "cell_type": "code",
   "execution_count": 17,
   "metadata": {},
   "outputs": [
    {
     "name": "stdout",
     "output_type": "stream",
     "text": [
      "4\n",
      "7\n",
      "3\n",
      "-6\n",
      "20\n",
      "1\n"
     ]
    }
   ],
   "source": [
    "#Bitwise operators\n",
    "x = 5\n",
    "y = 6\n",
    "print(x&y)  \n",
    "print(x|y)  \n",
    "print(x^y)  \n",
    "print(~x)  \n",
    "print(x << 2)      \n",
    "print(x >> 2)\n"
   ]
  }
 ],
 "metadata": {
  "kernelspec": {
   "display_name": "Python 3",
   "language": "python",
   "name": "python3"
  },
  "language_info": {
   "codemirror_mode": {
    "name": "ipython",
    "version": 3
   },
   "file_extension": ".py",
   "mimetype": "text/x-python",
   "name": "python",
   "nbconvert_exporter": "python",
   "pygments_lexer": "ipython3",
   "version": "3.12.5"
  }
 },
 "nbformat": 4,
 "nbformat_minor": 2
}
